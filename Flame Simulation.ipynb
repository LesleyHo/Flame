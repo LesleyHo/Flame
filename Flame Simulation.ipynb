{
 "cells": [
  {
   "cell_type": "code",
   "execution_count": 1,
   "metadata": {
    "collapsed": true
   },
   "outputs": [],
   "source": [
    "%matplotlib inline\n",
    "from matplotlib import animation, rc\n",
    "from IPython.display import HTML\n",
    "import numpy as np\n",
    "import matplotlib.pyplot as plt\n",
    "from mpl_toolkits.mplot3d import Axes3D"
   ]
  },
  {
   "cell_type": "code",
   "execution_count": 2,
   "metadata": {
    "collapsed": false
   },
   "outputs": [],
   "source": [
    "#Particle Generation\n",
    "#n_1 is the no of particles in an area of radius (del)e\n",
    "#it can be made faster, layer stacking up\n",
    "def particles(outer_radius, length, e, n_1):\n",
    "    \n",
    "    x = []\n",
    "    y = []\n",
    "    z = []\n",
    "    theta = []\n",
    "    rad = []\n",
    "    \n",
    "    length = int(length)\n",
    "    \n",
    "    #no of layers - len_per\n",
    "    n_l = int(length/e)\n",
    "    \n",
    "    #no of circles in a single layer\n",
    "    n_c_s_l = int(outer_radius/e)\n",
    "    \n",
    "    for o in range(n_l):\n",
    "        z_x = e * o\n",
    "        for i in range(n_c_s_l):\n",
    "            radius = e + i * e\n",
    "            #no of particles per circle\n",
    "            n_p_c = 6 * (i + 1) - 3 \n",
    "            del_theta = 2 * np.pi / n_p_c\n",
    "            for j in range(n_p_c):\n",
    "                x.append(radius * np.cos(del_theta * (j + 1)))\n",
    "                y.append(radius * np.sin(del_theta * (j + 1)))\n",
    "                z.append(z_x) \n",
    "                theta.append(del_theta * (j + 1))\n",
    "                rad.append(radius)\n",
    "    return x, y, z, theta, rad\n",
    "\n",
    "   "
   ]
  },
  {
   "cell_type": "code",
   "execution_count": 3,
   "metadata": {
    "collapsed": true
   },
   "outputs": [],
   "source": [
    "#Velocity function, forward vel = k1 * (outer_radius ** 2 - radius ** 2), omega = k2 * (outer_radius ** 2 - radius ** 2)\n",
    "#k1 and k2 are the properties dependent on the flow and wall material\n",
    "def vel_new_coord(k1, k2, time, length_of_the_box, outer_radius):\n",
    "    global x\n",
    "    global y\n",
    "    global z\n",
    "    global radius\n",
    "    global theta\n",
    "    global burn\n",
    "    ei = len(z)\n",
    "    for i in range(ei):\n",
    "        f_v = k1 * (outer_radius ** 2 - radius[i] ** 2)\n",
    "        r_v = k2 * (outer_radius ** 2 - radius[i] ** 2)/radius[i]\n",
    "        x[i] = radius[i] * np.cos(r_v * time + theta[i])\n",
    "        y[i] = radius[i] * np.sin(r_v * time + theta[i])\n",
    "        if z[i] > length_of_the_box:\n",
    "            burn[i] = 0\n",
    "\n",
    "        z[i] = (z[i] + f_v * time)%length \n",
    "        theta[i] = (theta[i] + r_v * time)%(2 * np.pi) \n",
    "    return\n",
    "\n",
    "#Total Velocity\n",
    "def vel_particles(k1, k2, outer_radius):\n",
    "    global radius\n",
    "    v = []\n",
    "    ei = len(radius)\n",
    "    for i in range(ei):\n",
    "        f_v = k1 * (outer_radius ** 2 - radius[i] ** 2)\n",
    "        r_v = k2 * (outer_radius ** 2 - radius[i] ** 2)/radius[i]\n",
    "        v.append((f_v ** 2 + r_v ** 2) ** 0.5)\n",
    "    return v, min(v), max(v)"
   ]
  },
  {
   "cell_type": "code",
   "execution_count": 4,
   "metadata": {
    "collapsed": true
   },
   "outputs": [],
   "source": [
    "#BOUNDARY CONDITIONS \n",
    "#Adding Temperature Boundary Condition on the face\n",
    "def temperature_face(t_1):\n",
    "    global z\n",
    "    global temperature\n",
    "    z_min = min(z)\n",
    "    c = len(z)\n",
    "    for i in range(c):\n",
    "        if z[i] == z_min:\n",
    "            temperature[i] = t_1\n",
    "    return\n",
    "\n",
    "#Adding Temperature Boundary Condition on the surface\n",
    "def temperature_surface(t_1, t_2, outer_radius, length):\n",
    "    global radius\n",
    "    global z\n",
    "    global temperature\n",
    "    c = len(radius)\n",
    "    k = (t_2 - t_1)/length\n",
    "    for i in range(c):\n",
    "        if radius[i] == outer_radius:\n",
    "            temperature[i] = k * z[i] + t_1\n",
    "    return\n",
    "            "
   ]
  },
  {
   "cell_type": "code",
   "execution_count": 5,
   "metadata": {
    "collapsed": false
   },
   "outputs": [],
   "source": [
    "#INITIALIZATION - Adding Initial temperature Conditions\n",
    "\n",
    "#Will add a semicircular arc \n",
    "\n",
    "def initialize_temp(t_3, t_f):\n",
    "    global temperature\n",
    "    global radius\n",
    "    global z\n",
    "    global vel_min\n",
    "    global vel_max\n",
    "    ei = len(z)\n",
    "    #Temperature condition for the non-lit particles intially\n",
    "    for i in range(ei):\n",
    "        if radius[i] != outer_radius:\n",
    "            temperature[i] = t_3\n",
    "    \n",
    "    #Temperature condition for the lit particles - semicircular\n",
    "    #The flame would be near the center and velocity in a range\n",
    "    a = (vel_min + vel_max)/4\n",
    "    b = (vel_min + vel_max) * 3/4\n",
    "    c = (min(z) + max(z))/4\n",
    "    d = (max(z) + min(z)) * 3/4\n",
    "    for i in range(ei):\n",
    "        if vel[i] <= b and vel[i] >= a and z[i] >= c and z[i] <= d:\n",
    "            if theta[i] <= 1.5 * np.pi and theta[i] >= 0.25 * np.pi:\n",
    "                temperature[i] = t_f\n",
    "    \n",
    "    return\n",
    "    \n",
    " "
   ]
  },
  {
   "cell_type": "code",
   "execution_count": 6,
   "metadata": {
    "collapsed": false
   },
   "outputs": [],
   "source": [
    "#HEAT CIRCULATION\n",
    "#KEEP LENGTH/DEL_E >= 10\n",
    "def heat_circulation(t_tran, t_f, outer_radius):\n",
    "    global temperature\n",
    "    global radius\n",
    "    global z\n",
    "    global burn\n",
    "    global del_e\n",
    "    ei = len(z)\n",
    "    temp = np.copy(temperature)\n",
    "    del_theta = 2/5 * np.pi\n",
    "    \n",
    "    \"\"\"\n",
    "    #CODE FOR SPACE PARTITIONING\n",
    "    avg_length = 2 * del_e\n",
    "    bin_length = 5 * del_e\n",
    "    space_partition = []\n",
    "    n_del_e = int(length/del_e)\n",
    "    no_of_bins = int(np.ceil((length - (avg_length + del_e))/(bin_length - (avg_length + del_e))))\n",
    "    #print(no_of_bins)\n",
    "    assert(no_of_bins > 0), \"No of partitions is zero!\"\n",
    "    \n",
    "    for i1 in range(no_of_bins):\n",
    "        a_part = []\n",
    "        a11 = i1 * del_e\n",
    "        a12 = (i1 + bin_length) * del_e \n",
    "        for i2 in range(ei):\n",
    "            if i1 != (no_of_bins - 1):\n",
    "                if z[i2]>= a11 and z[i2] <= a12:\n",
    "                    a_part.append(i2)\n",
    "                    #print(i2)\n",
    "            else:\n",
    "                if z[i2] >= a11:\n",
    "                    a_part.append(i2)\n",
    "                    #print(i2)\n",
    "        space_partition.append(a_part)\n",
    "    \n",
    "    assert(len(space_partition) > 0), \"Partitioned array has no elememt!\"\n",
    "    #print(type(space_partition[0][1]))\n",
    "    \n",
    "    \n",
    "    for i in range(ei):\n",
    "        k_d = np.floor(z[i]/del_e) * del_e\n",
    "        distance = []\n",
    "        if radius[i] != outer_radius:                  \n",
    "            if k_d > bin_length:\n",
    "                bin_temp = np.floor((np.floor((k_d - bin_length)/(bin_length - (avg_length + del_e)))/(bin_length - (avg_length + del_e))))\n",
    "                if ((bin_length + bin_temp * (bin_length - (avg_length + del_e))) - z[i]) < avg_length:\n",
    "                    bin_temp = bin_temp + 1\n",
    "            if k_d <= bin_length:\n",
    "                bin_temp = 0\n",
    "                if ((bin_length + bin_temp * (bin_length - (avg_length + del_e))) - z[i]) < avg_length:\n",
    "                    bin_temp = bin_temp + 1\n",
    "            \n",
    "            if bin_temp == (no_of_bins):\n",
    "                bin_temp = bin_temp - 1\n",
    "             \n",
    "            assert(bin_temp>=0), \"Bin index is negative!\"\n",
    "            assert(bin_temp<=len(space_partition)), \"Bin index is greater than the length of space partition!\"\n",
    "            \n",
    "            print(len(space_partition[0]), space_partition[0][0])\n",
    "            \n",
    "            cdk = len(space_partition[bin_temp])\n",
    "            for j1 in range(cdk):                     \n",
    "                j = (space_partition[bin_temp][j1])\n",
    "                print(j)\n",
    "                if abs(radius[i] - radius[j]) <= 1.5 * del_e and abs(theta[i] - theta[j]) <= (del_theta):\n",
    "                    distance.append((((x[i] - x[j]) ** 2 + (y[i] - y[j]) ** 2 + (z[i] - z[j]) ** 2) ** 0.5, j))\n",
    "                                     \n",
    "            distance = sorted(distance, key = lambda val: val[0])\n",
    "            \n",
    "            assert(len(distance) >= 3), \"Length of distance matrix is less than 3!\"\n",
    "            temp[i] = (temperature[distance[0][1]] + temperature[distance[1][1]] + temperature[distance[2][1]])/3\n",
    "            \n",
    "            if temp[i] >= t_tran and burn[i] == 0:\n",
    "                temp[i] = t_f\n",
    "                burn[i] = 1\n",
    "            \n",
    "    \"\"\"\n",
    "    a = (vel_min + vel_max)/4\n",
    "    b = (vel_min + vel_max) * 3/4\n",
    "    \n",
    "    for i in range(ei):\n",
    "        distance = []\n",
    "        if radius[i] != outer_radius:\n",
    "            for j in range(ei):\n",
    "                if abs(z[i] - z[j]) <= del_e and abs(radius[i] - radius[j]) <= del_e and abs(theta[i] - theta[j]) <= (del_theta):\n",
    "                    distance.append((((x[i] - x[j]) ** 2 + (y[i] - y[j]) ** 2 + (z[i] - z[j]) ** 2) ** 0.5, j))\n",
    "                #print(distance[j])\n",
    "            distance = sorted(distance, key = lambda val: val[0])\n",
    "            assert(len(distance) >= 4), \"Length of distance matrix is less than 4!\"\n",
    "            temp[i] = (temperature[distance[0][1]] + temperature[distance[1][1]] + temperature[distance[2][1]] + temperature[distance[3][1]])/4\n",
    "            if temp[i] >= t_tran and burn[i] == 0 and vel[i] <= b and vel[i] >= a :\n",
    "                temp[i] = t_f\n",
    "                burn[i] = 1\n",
    "    #for i in range(ei):\n",
    "     #   print(temp[i] - temperature[i])\n",
    "    \n",
    "    return temp"
   ]
  },
  {
   "cell_type": "code",
   "execution_count": null,
   "metadata": {
    "collapsed": false
   },
   "outputs": [
    {
     "data": {
      "text/plain": [
       "<matplotlib.collections.PathCollection at 0x2aa9b521860>"
      ]
     },
     "execution_count": 7,
     "metadata": {},
     "output_type": "execute_result"
    },
    {
     "data": {
      "image/png": "[encoded data removed]",
      "text/plain": [
       "<matplotlib.figure.Figure at 0x2aa93a035c0>"
      ]
     },
     "metadata": {},
     "output_type": "display_data"
    }
   ],
   "source": [
    "burn = []\n",
    "x = 0\n",
    "y = 0\n",
    "z = 0\n",
    "vel = 0\n",
    "vel_min = 0\n",
    "vel_max = 0\n",
    "theta = 0\n",
    "radius = 0\n",
    "length = 2\n",
    "outer_radius = 1\n",
    "k1 = 0.1\n",
    "k2 = 1\n",
    "t_f = 1000\n",
    "t_3 = 273\n",
    "t_tran = 320\n",
    "t_1 = 273\n",
    "t_2 = 400\n",
    "del_e = 0.02\n",
    "starter_n = 3\n",
    "time_step = 0.1\n",
    "#Creating the particles\n",
    "x, y, z, theta, radius = particles(outer_radius, length, del_e, starter_n)\n",
    "vel, vel_min, vel_max = vel_particles(k1, k2, outer_radius)\n",
    "#print(vel_min, vel_max)\n",
    "\n",
    "#Adding the temperature profile\n",
    "for i in range(len(z)):\n",
    "    burn.append(0) \n",
    "\n",
    "temperature = np.copy(z)\n",
    "temperature_face(t_1)\n",
    "temperature_surface(t_1, t_2, outer_radius, length)\n",
    "initialize_temp(t_3, t_f)\n",
    "plt.scatter(x, y)"
   ]
  },
  {
   "cell_type": "code",
   "execution_count": null,
   "metadata": {
    "collapsed": false,
    "scrolled": true
   },
   "outputs": [
    {
     "data": {
      "image/png": "[encoded data removed]",
      "text/plain": [
       "<matplotlib.figure.Figure at 0x2aa9b563898>"
      ]
     },
     "metadata": {},
     "output_type": "display_data"
    }
   ],
   "source": [
    "#Animations\n",
    "grid_size = 1\n",
    "fig = plt.figure()\n",
    "ax = fig.add_axes([0, 0, 1, 1], projection='3d')\n",
    "ax.axis('off')\n",
    "ax.set_xlim((-grid_size, grid_size))\n",
    "ax.set_ylim((-grid_size, grid_size))\n",
    "ax.set_zlim((0, length + 1))\n",
    "\n",
    "line1, = ax.plot([], [], [], 'bo')\n",
    "\n",
    "def init():\n",
    "    line1.set_data([], [])\n",
    "    line1.set_3d_properties([])    \n",
    "    return line1,\n",
    "\n",
    "def animate(i):\n",
    "    global temperature\n",
    "    \"\"\"\n",
    "    global fx\n",
    "    global fy\n",
    "    global fz\n",
    "    \"\"\"\n",
    "    fx = []\n",
    "    fy = []\n",
    "    fz = []\n",
    "    for i in range(len(z)):\n",
    "        if temperature[i] >= 800 and radius[i] != outer_radius:\n",
    "            fx.append(x[i])\n",
    "            fy.append(y[i])\n",
    "            fz.append(z[i])\n",
    "    line1.set_data(fx, fy)\n",
    "    line1.set_3d_properties(fz) \n",
    "    ax.view_init(2*i+60, 3 * i)\n",
    "    fig.canvas.draw()\n",
    "    \n",
    "    vel_new_coord(k1, k2, time_step, length, outer_radius) \n",
    "    for i in range(5):\n",
    "        temperature_face(t_1)\n",
    "        temperature = heat_circulation(t_tran, t_f, outer_radius)\n",
    "        \n",
    "    return line1,\n",
    "\n",
    "# call the animator.  blit=True means only re-draw the parts that have changed.\n",
    "anim = animation.FuncAnimation(fig, animate,init_func = init, frames = 100, interval = 500 , blit=True)\n",
    "plt.show()\n",
    "HTML(anim.to_html5_video())\n"
   ]
  },
  {
   "cell_type": "code",
   "execution_count": null,
   "metadata": {
    "collapsed": false
   },
   "outputs": [],
   "source": [
    "print(int(1))"
   ]
  },
  {
   "cell_type": "code",
   "execution_count": null,
   "metadata": {
    "collapsed": true
   },
   "outputs": [],
   "source": []
  },
  {
   "cell_type": "code",
   "execution_count": null,
   "metadata": {
    "collapsed": true
   },
   "outputs": [],
   "source": []
  },
  {
   "cell_type": "code",
   "execution_count": null,
   "metadata": {
    "collapsed": true
   },
   "outputs": [],
   "source": []
  }
 ],
 "metadata": {
  "anaconda-cloud": {},
  "kernelspec": {
   "display_name": "Python [default]",
   "language": "python",
   "name": "python3"
  },
  "language_info": {
   "codemirror_mode": {
    "name": "ipython",
    "version": 3
   },
   "file_extension": ".py",
   "mimetype": "text/x-python",
   "name": "python",
   "nbconvert_exporter": "python",
   "pygments_lexer": "ipython3",
   "version": "3.5.2"
  }
 },
 "nbformat": 4,
 "nbformat_minor": 1
}
